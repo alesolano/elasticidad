{
 "cells": [
  {
   "cell_type": "markdown",
   "metadata": {},
   "source": [
    "# Problema de Elasticidad\n",
    "\n",
    "Supóngase que, como consecuencia de determinadas acciones externas, en un dominio continuo, homogéneo, isótropo, lineal y elástico; se tiene el campo de desplazamientos expresados en las ecuaciones (1).\n",
    "\n",
    "$$\n",
    "u(x,y,z) = -\\frac{x}{1600}(\\frac{9x}{2} - y - 1) - \\frac{z^2}{3200} - \\frac{1}{2} \\quad [m]\n",
    "$$\n",
    "$$$$\n",
    "$$\n",
    "v(x,y,z) = -\\frac{y}{800}(-3x + y + 2) - \\frac{z^2}{3200} \\quad [m] \\tag{1}\n",
    "$$\n",
    "$$$$\n",
    "$$\n",
    "w(x,y,z) = \\frac{x + y - 4}{1600} \\quad [m]\n",
    "$$"
   ]
  },
  {
   "cell_type": "markdown",
   "metadata": {},
   "source": [
    "### 1. Determine el tensor de deformaciones"
   ]
  },
  {
   "cell_type": "code",
   "execution_count": 1,
   "metadata": {
    "collapsed": true
   },
   "outputs": [],
   "source": [
    "import numpy as np\n",
    "import matplotlib.pyplot as plt\n",
    "import sympy as sym"
   ]
  },
  {
   "cell_type": "code",
   "execution_count": 2,
   "metadata": {
    "collapsed": true
   },
   "outputs": [],
   "source": [
    "from elasticity import DisplacementField"
   ]
  },
  {
   "cell_type": "code",
   "execution_count": 3,
   "metadata": {
    "collapsed": true
   },
   "outputs": [],
   "source": [
    "# Se declaran las tres variables simbólicas que definen el sistema de coordenadas\n",
    "x, y, z = sym.symbols('x y z', real=True)\n",
    "xyz = (x, y, z)"
   ]
  },
  {
   "cell_type": "code",
   "execution_count": 4,
   "metadata": {
    "collapsed": true
   },
   "outputs": [],
   "source": [
    "# Necesitamos generar una función que, dado un punto, devuelva el campo de desplazamientos en ese punto.\n",
    "def gen_u(point):\n",
    "    x, y, z = point\n",
    "    u = np.array([-(x/1600)*(9*x/2 - y - 1) - (z**2)/3200 - 1/2,\n",
    "                  -(y/800)*(-3*x + y + 2) - (z**2)/3200,\n",
    "                  (x+y-4)/1600])\n",
    "    return u"
   ]
  },
  {
   "cell_type": "code",
   "execution_count": 5,
   "metadata": {},
   "outputs": [
    {
     "data": {
      "text/plain": [
       "array([-x*(9*x/2 - y - 1)/1600 - z**2/3200 - 0.5,\n",
       "       -y*(-3*x + y + 2)/800 - z**2/3200, x/1600 + y/1600 - 1/400], dtype=object)"
      ]
     },
     "execution_count": 5,
     "metadata": {},
     "output_type": "execute_result"
    }
   ],
   "source": [
    "# u es un objeto DisplacementField, que requiere de un sistema de coordenadas y una función como la de antes.\n",
    "u = DisplacementField(xyz, gen_u)\n",
    "u.field"
   ]
  },
  {
   "cell_type": "code",
   "execution_count": 6,
   "metadata": {},
   "outputs": [
    {
     "data": {
      "text/plain": [
       "array([[-9*x/1600 + y/1600 + 1/1600, x/3200 + 3*y/1600, -z/3200 + 1/3200],\n",
       "       [x/3200 + 3*y/1600, 3*x/800 - y/400 - 1/400, -z/3200 + 1/3200],\n",
       "       [-z/3200 + 1/3200, -z/3200 + 1/3200, 0]], dtype=object)"
      ]
     },
     "execution_count": 6,
     "metadata": {},
     "output_type": "execute_result"
    }
   ],
   "source": [
    "# A partir de u podemos obtener ε, un objeto StrainTensor\n",
    "ε = u.strain_tensor()\n",
    "ε.tensor"
   ]
  },
  {
   "cell_type": "markdown",
   "metadata": {},
   "source": [
    "### 2. Suponiendo que el material tuviese coeficiente de Poisson ν = 1/4 y un módulo de elasticidad E = 210 GPa, determine el tensor de tensiones."
   ]
  },
  {
   "cell_type": "code",
   "execution_count": 7,
   "metadata": {
    "collapsed": true
   },
   "outputs": [],
   "source": [
    "E = 210000 # no confundir con E_ (punto del polígono)\n",
    "ν = 1/4"
   ]
  },
  {
   "cell_type": "code",
   "execution_count": 8,
   "metadata": {},
   "outputs": [
    {
     "data": {
      "text/plain": [
       "array([[-1102.5*x - 52.5*y - 52.5, 52.5*x + 315.0*y, -52.5*z + 52.5],\n",
       "       [52.5*x + 315.0*y, 472.5*x - 577.5*y - 577.5, -52.5*z + 52.5],\n",
       "       [-52.5*z + 52.5, -52.5*z + 52.5, -157.5*x - 157.5*y - 157.5]], dtype=object)"
      ]
     },
     "execution_count": 8,
     "metadata": {},
     "output_type": "execute_result"
    }
   ],
   "source": [
    "# a partir ε y las propiedades del material, podemos obtener σ, un objeto StressTensor\n",
    "σ = ε.stress_tensor(E, ν)\n",
    "σ.tensor"
   ]
  },
  {
   "cell_type": "markdown",
   "metadata": {},
   "source": [
    "### 3. Determine y represente el tensor de tensiones en los puntos P, Q y R; de coordenadas: (0,0,0), (1m, 1m, 1m) y (−2m, 1m, 1m); respectivamente."
   ]
  },
  {
   "cell_type": "code",
   "execution_count": 9,
   "metadata": {},
   "outputs": [
    {
     "data": {
      "text/plain": [
       "array([[-52.5, 0.0, 52.5],\n",
       "       [0.0, -577.5, 52.5],\n",
       "       [52.5, 52.5, -157.5]], dtype=object)"
      ]
     },
     "execution_count": 9,
     "metadata": {},
     "output_type": "execute_result"
    }
   ],
   "source": [
    "σ.evaluate((0,0,0))"
   ]
  },
  {
   "cell_type": "code",
   "execution_count": 10,
   "metadata": {},
   "outputs": [
    {
     "data": {
      "text/plain": [
       "array([[-1207.5, 367.5, 0.0],\n",
       "       [367.5, -682.5, 0.0],\n",
       "       [0.0, 0.0, -472.5]], dtype=object)"
      ]
     },
     "execution_count": 10,
     "metadata": {},
     "output_type": "execute_result"
    }
   ],
   "source": [
    "σ.evaluate((1,1,1))"
   ]
  },
  {
   "cell_type": "code",
   "execution_count": 11,
   "metadata": {},
   "outputs": [
    {
     "data": {
      "text/plain": [
       "array([[2100.0, 210.0, 0.0],\n",
       "       [210.0, -2100.0, 0.0],\n",
       "       [0.0, 0.0, 0.0]], dtype=object)"
      ]
     },
     "execution_count": 11,
     "metadata": {},
     "output_type": "execute_result"
    }
   ],
   "source": [
    "σ.evaluate((-2,1,1))"
   ]
  },
  {
   "cell_type": "markdown",
   "metadata": {},
   "source": [
    "### 4. Obtenga y represente las tensiones y direcciones principales en cada uno de los puntos anteriores."
   ]
  },
  {
   "cell_type": "code",
   "execution_count": 12,
   "metadata": {},
   "outputs": [
    {
     "data": {
      "text/plain": [
       "(array([ -29.99469185, -173.46392822, -584.04138184], dtype=float32),\n",
       " array([[ 0.91845614,  0.03775331,  0.3937169 ],\n",
       "        [ 0.3953343 , -0.11835871, -0.91087979],\n",
       "        [-0.0122111 , -0.99225295,  0.12363247]], dtype=float32))"
      ]
     },
     "execution_count": 12,
     "metadata": {},
     "output_type": "execute_result"
    }
   ],
   "source": [
    "λs, vs = σ.principal_stress((0,0,0))\n",
    "λs, vs"
   ]
  },
  {
   "cell_type": "code",
   "execution_count": 13,
   "metadata": {
    "collapsed": true
   },
   "outputs": [],
   "source": [
    "# Igual para el resto de puntos"
   ]
  },
  {
   "cell_type": "markdown",
   "metadata": {},
   "source": [
    "No podemos reprentar el paralelepípedo elemental. Pero, al menos, y solo por lo bonito que queda, vamos a reprentar las circunferencias de Möhr."
   ]
  },
  {
   "cell_type": "code",
   "execution_count": 14,
   "metadata": {},
   "outputs": [
    {
     "data": {
      "image/png": "[encoded data removed]",
      "text/plain": [
       "<matplotlib.figure.Figure at 0x7fd2a3afff60>"
      ]
     },
     "execution_count": 14,
     "metadata": {},
     "output_type": "execute_result"
    }
   ],
   "source": [
    "σ.draw_mohrs_circles((0, 0, 0))"
   ]
  },
  {
   "cell_type": "markdown",
   "metadata": {},
   "source": [
    "### 5. Determine las fuerzas de volumen."
   ]
  },
  {
   "cell_type": "code",
   "execution_count": 15,
   "metadata": {},
   "outputs": [
    {
     "data": {
      "text/plain": [
       "(array([ 840.,    0.,    0.]),\n",
       " array([   0. ,  577.5,    0. ]),\n",
       " array([ 0.,  0.,  0.]))"
      ]
     },
     "execution_count": 15,
     "metadata": {},
     "output_type": "execute_result"
    }
   ],
   "source": [
    "σ.body_forces()"
   ]
  },
  {
   "cell_type": "markdown",
   "metadata": {},
   "source": [
    "### 6. Suponiendo que la geometría del dominio bajo estudio fuera la representada en la figura 1:"
   ]
  },
  {
   "cell_type": "code",
   "execution_count": 16,
   "metadata": {},
   "outputs": [
    {
     "data": {
      "image/png": "[encoded data removed]",
      "text/plain": [
       "<IPython.core.display.Image object>"
      ]
     },
     "execution_count": 16,
     "metadata": {},
     "output_type": "execute_result"
    }
   ],
   "source": [
    "from IPython.display import Image\n",
    "Image(\"figura_1.png\")"
   ]
  },
  {
   "cell_type": "code",
   "execution_count": 17,
   "metadata": {
    "collapsed": true
   },
   "outputs": [],
   "source": [
    "from elasticity import Polygon"
   ]
  },
  {
   "cell_type": "code",
   "execution_count": 18,
   "metadata": {
    "collapsed": true
   },
   "outputs": [],
   "source": [
    "O = np.array([0, 0, 0])\n",
    "A = np.array([3, 0, 0])\n",
    "B = np.array([3, 1, 0])\n",
    "C = np.array([3, 1, 0.5])\n",
    "D = np.array([3, 0, 0.5])\n",
    "E_ = np.array([0, 1, 0]) # no confundir con E (módulo de Young)\n",
    "F = np.array([0, 1, 2.5])\n",
    "G = np.array([0, 0, 2.5])"
   ]
  },
  {
   "cell_type": "code",
   "execution_count": 19,
   "metadata": {
    "collapsed": true
   },
   "outputs": [],
   "source": [
    "faces = [[O, A, B, E_], [O, A, D, G], [O, E_, F, G], [A, B, C, D], [B, C, F, E_], [C, D, G, F]]"
   ]
  },
  {
   "cell_type": "code",
   "execution_count": 34,
   "metadata": {},
   "outputs": [
    {
     "data": {
      "image/png": "[encoded data removed]",
      "text/plain": [
       "<matplotlib.figure.Figure at 0x7fd2a057fe10>"
      ]
     },
     "metadata": {},
     "output_type": "display_data"
    }
   ],
   "source": [
    "pol = Polygon(faces)\n",
    "pol.draw()"
   ]
  },
  {
   "cell_type": "markdown",
   "metadata": {},
   "source": [
    "#### 6.1 Determine y represente las acciones sobre las superficies del dominio."
   ]
  },
  {
   "cell_type": "code",
   "execution_count": 21,
   "metadata": {
    "collapsed": true
   },
   "outputs": [],
   "source": [
    "normal_vectors = pol.normal_vectors()"
   ]
  },
  {
   "cell_type": "code",
   "execution_count": 22,
   "metadata": {},
   "outputs": [
    {
     "data": {
      "text/plain": [
       "array([-0.5547002 ,  0.        , -0.83205029])"
      ]
     },
     "execution_count": 22,
     "metadata": {},
     "output_type": "execute_result"
    }
   ],
   "source": [
    "η_CDFG = normal_vectors[5] # CDFG corresponde a la cara 5\n",
    "η_CDFG"
   ]
  },
  {
   "cell_type": "code",
   "execution_count": 23,
   "metadata": {
    "collapsed": true
   },
   "outputs": [],
   "source": [
    "# El vector normal no es saliente, por lo que lo multiplicamos por -1.\n",
    "η_CDFG *= -1"
   ]
  },
  {
   "cell_type": "code",
   "execution_count": 24,
   "metadata": {},
   "outputs": [
    {
     "data": {
      "text/plain": [
       "array([-582.435206036491*x - 29.1217603018245*y - 94.6457209809297,\n",
       "       58.2435206036491*x + 174.730561810947*y - 65.5239606791052,\n",
       "       -111.633414490327*x - 131.04792135821*y - 174.730561810947], dtype=object)"
      ]
     },
     "execution_count": 24,
     "metadata": {},
     "output_type": "execute_result"
    }
   ],
   "source": [
    "# El plano de la cara CDFG viene definido por x, y, -2*x/3 + 2.5\n",
    "T_CDFG = σ.stress_vector(η_CDFG, (x, y, -2*x/3 + 2.5))\n",
    "T_CDFG"
   ]
  },
  {
   "cell_type": "code",
   "execution_count": 25,
   "metadata": {
    "collapsed": true
   },
   "outputs": [],
   "source": [
    "# No podemos las acciones superficiales en 3D en la cara :("
   ]
  },
  {
   "cell_type": "markdown",
   "metadata": {},
   "source": [
    "#### 6.2 Determine el incremento de longitud sufrido por la línea OC."
   ]
  },
  {
   "cell_type": "code",
   "execution_count": 26,
   "metadata": {},
   "outputs": [
    {
     "data": {
      "text/plain": [
       "-0.017764765414828923"
      ]
     },
     "execution_count": 26,
     "metadata": {},
     "output_type": "execute_result"
    }
   ],
   "source": [
    "ε.length_increment(O, C)"
   ]
  },
  {
   "cell_type": "markdown",
   "metadata": {},
   "source": [
    "#### 6.3 Determine el incremento de superficie de la cara DCFG."
   ]
  },
  {
   "cell_type": "markdown",
   "metadata": {},
   "source": [
    "El método `rect_area_increment(pA, pB, pC)` calcula el incremento de un área rectangular definida por tres vértices contiguos pC, pA y pB, donde los vectores vAB y vAC deben ser perpendiculares."
   ]
  },
  {
   "cell_type": "code",
   "execution_count": 27,
   "metadata": {},
   "outputs": [
    {
     "data": {
      "text/plain": [
       "-0.01144069154714536"
      ]
     },
     "execution_count": 27,
     "metadata": {},
     "output_type": "execute_result"
    }
   ],
   "source": [
    "ε.rect_area_increment(D, C, G)"
   ]
  },
  {
   "cell_type": "markdown",
   "metadata": {},
   "source": [
    "#### 6.4 Determine el incremento de volumen."
   ]
  },
  {
   "cell_type": "code",
   "execution_count": 28,
   "metadata": {},
   "outputs": [
    {
     "data": {
      "text/plain": [
       "-0.0225000000000000"
      ]
     },
     "execution_count": 28,
     "metadata": {},
     "output_type": "execute_result"
    }
   ],
   "source": [
    "# Hacemos la integral de volumen de la traza del tensor de deformaciones\n",
    "sym.integrate(np.trace(ε.tensor), (z, 0, -2*x/3 + 2.5), (x, 0, 3), (y, 0, 1))"
   ]
  },
  {
   "cell_type": "markdown",
   "metadata": {},
   "source": [
    "### 7. Supuesto que el material que compone el dominio fuese un material dúctil con tensión de plastificación σe = 3800MPa ¿qué se puede afirmar de la seguridad del dominio ante el estado de cargas que estaría soportando?"
   ]
  },
  {
   "cell_type": "markdown",
   "metadata": {},
   "source": [
    "El procedimiento a seguir sería evaluar la tensión de equivalente en todo el dominio y calcular el máximo. Esta tarea resulta muy compleja porque es una función que depende de tres variables $(x, y, z)$.\n",
    "\n",
    "Aquí se resuelve partiendo de que el punto más peligroso se encuentra en la línea DG."
   ]
  },
  {
   "cell_type": "code",
   "execution_count": 29,
   "metadata": {},
   "outputs": [
    {
     "name": "stdout",
     "output_type": "stream",
     "text": [
      "Unable to compute third invariant for symbolic tensor\n"
     ]
    },
    {
     "data": {
      "text/plain": [
       "sqrt(7603575.0*x**2 - 4895100.0*x + 1074937.5)/2"
      ]
     },
     "execution_count": 29,
     "metadata": {},
     "output_type": "execute_result"
    }
   ],
   "source": [
    "σVM = σ.von_mises_stress((x, 0, -2*x/3 + 2.5))\n",
    "σVM = σVM.simplify()\n",
    "σVM"
   ]
  },
  {
   "cell_type": "code",
   "execution_count": 30,
   "metadata": {},
   "outputs": [
    {
     "data": {
      "text/plain": [
       "{x: 0.321894635089415}"
      ]
     },
     "execution_count": 30,
     "metadata": {},
     "output_type": "execute_result"
    }
   ],
   "source": [
    "# Resolvemos la derivada de la función para averiguar el valor x del punto crítico.\n",
    "sol = sym.solve([\n",
    "    sym.diff(σVM, x)\n",
    "], x)\n",
    "\n",
    "sol"
   ]
  },
  {
   "cell_type": "code",
   "execution_count": 31,
   "metadata": {
    "collapsed": true
   },
   "outputs": [],
   "source": [
    "# Sea Q el punto extremo de la función.\n",
    "xQ = sol[x]\n",
    "Q = np.array([xQ, 0, -2*xQ/3 + 2.5])"
   ]
  },
  {
   "cell_type": "code",
   "execution_count": 32,
   "metadata": {},
   "outputs": [
    {
     "name": "stdout",
     "output_type": "stream",
     "text": [
      "Unable to compute third invariant for symbolic tensor\n"
     ]
    },
    {
     "data": {
      "text/plain": [
       "(518.39596352595186, 267.901234546849, 3702.0875192247954)"
      ]
     },
     "execution_count": 32,
     "metadata": {},
     "output_type": "execute_result"
    }
   ],
   "source": [
    "# Evaluamos Von Mises en cada uno de los puntos\n",
    "σ.von_mises_stress(G), σ.von_mises_stress(Q), σ.von_mises_stress(D)"
   ]
  },
  {
   "cell_type": "code",
   "execution_count": 33,
   "metadata": {},
   "outputs": [
    {
     "data": {
      "text/plain": [
       "1.026447910879132"
      ]
     },
     "execution_count": 33,
     "metadata": {},
     "output_type": "execute_result"
    }
   ],
   "source": [
    "# Q resulta ser un mínimo. El punto crítico es D\n",
    "m = 3800/σ.von_mises_stress(D)\n",
    "m"
   ]
  }
 ],
 "metadata": {
  "kernelspec": {
   "display_name": "Python 3",
   "language": "python",
   "name": "python3"
  },
  "language_info": {
   "codemirror_mode": {
    "name": "ipython",
    "version": 3
   },
   "file_extension": ".py",
   "mimetype": "text/x-python",
   "name": "python",
   "nbconvert_exporter": "python",
   "pygments_lexer": "ipython3",
   "version": "3.6.1"
  }
 },
 "nbformat": 4,
 "nbformat_minor": 2
}
